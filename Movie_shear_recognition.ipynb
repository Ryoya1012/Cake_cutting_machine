{
  "nbformat": 4,
  "nbformat_minor": 0,
  "metadata": {
    "colab": {
      "provenance": [],
      "authorship_tag": "ABX9TyNrQixKTNIw10m0H/aPhhg+"
    },
    "kernelspec": {
      "name": "python3",
      "display_name": "Python 3"
    },
    "language_info": {
      "name": "python"
    }
  },
  "cells": [
    {
      "cell_type": "code",
      "execution_count": null,
      "metadata": {
        "id": "AZrPvAGStVo8"
      },
      "outputs": [],
      "source": [
        "import cv2\n",
        "import numpy as np\n",
        "\n",
        "def detect_largest_contour_from_webcam():\n",
        "    # Webカメラを起動\n",
        "    cap = cv2.VideoCapture(1)  # 0は通常、内蔵カメラを指す\n",
        "\n",
        "    if not cap.isOpened():\n",
        "        print(\"Error: Could not open webcam.\")\n",
        "        return\n",
        "\n",
        "    while True:\n",
        "        # フレームを1つ取得\n",
        "        ret, frame = cap.read()\n",
        "        if not ret:\n",
        "            print(\"Error: Could not read frame.\")\n",
        "            break\n",
        "\n",
        "        # 画像をグレースケールに変換\n",
        "        gray = cv2.cvtColor(frame, cv2.COLOR_BGR2GRAY)\n",
        "\n",
        "        # 画像をぼかしてノイズを低減\n",
        "        blurred = cv2.GaussianBlur(gray, (5, 5), 0)\n",
        "\n",
        "        # Cannyエッジ検出を行う\n",
        "        edges = cv2.Canny(blurred, 50, 150)\n",
        "\n",
        "        # 輪郭を検出\n",
        "        contours, _ = cv2.findContours(edges, cv2.RETR_EXTERNAL, cv2.CHAIN_APPROX_SIMPLE)\n",
        "\n",
        "        # 最大の輪郭を見つける\n",
        "        if contours:\n",
        "            largest_contour = max(contours, key=cv2.contourArea)\n",
        "\n",
        "            # 最大の輪郭の外接円を計算\n",
        "            (x, y), radius = cv2.minEnclosingCircle(largest_contour)\n",
        "            center = (int(x), int(y))\n",
        "            radius = int(radius)\n",
        "\n",
        "            # 最大の輪郭を描画\n",
        "            cv2.drawContours(frame, [largest_contour], -1, (0, 255, 0), 2)  # 緑色で輪郭を描画\n",
        "\n",
        "            # 外接円を描画\n",
        "            cv2.circle(frame, center, radius, (255, 0, 0), 2)  # 青色で外接円を描画\n",
        "            cv2.circle(frame, center, 5, (0, 0, 255), -1)  # 中心点を赤色で描画\n",
        "\n",
        "            # 最大の輪郭の面積を表示\n",
        "            #area = cv2.contourArea(largest_contour)\n",
        "            #print(f\"Largest contour area: {area}\")\n",
        "\n",
        "        # 処理結果を表示\n",
        "        cv2.imshow('Largest Contour and Enclosing Circle', frame)\n",
        "        cv2.imshow('Edge Detection', edges)\n",
        "\n",
        "        # 'q'キーが押されたらループを終了\n",
        "        if cv2.waitKey(1) & 0xFF == ord('q'):\n",
        "            break\n",
        "\n",
        "    # システム終了\n",
        "    cap.release()\n",
        "    cv2.destroyAllWindows()\n",
        "\n",
        "# プログラムを実行\n",
        "detect_largest_contour_from_webcam()\n"
      ]
    }
  ]
}