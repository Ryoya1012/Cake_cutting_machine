{
  "nbformat": 4,
  "nbformat_minor": 0,
  "metadata": {
    "colab": {
      "provenance": [],
      "authorship_tag": "ABX9TyMON32lzeHAFYZHAfyHUeCc"
    },
    "kernelspec": {
      "name": "python3",
      "display_name": "Python 3"
    },
    "language_info": {
      "name": "python"
    }
  },
  "cells": [
    {
      "cell_type": "code",
      "execution_count": null,
      "metadata": {
        "id": "DxLKhF-LCIMR"
      },
      "outputs": [],
      "source": [
        "import cv2\n",
        "import numpy as np\n",
        "import matplotlib.pyplot as plt\n",
        "\n",
        "def detect_largest_contour_shape(image_path):\n",
        "    # 画像を読み込む\n",
        "    frame = cv2.imread(image_path)\n",
        "\n",
        "    if frame is None:\n",
        "        print(\"Error: Could not load image.\")\n",
        "        return\n",
        "\n",
        "    # 画像をグレースケールに変換\n",
        "    gray = cv2.cvtColor(frame, cv2.COLOR_BGR2GRAY)\n",
        "\n",
        "    # 画像をぼかしてノイズを低減\n",
        "    blurred = cv2.GaussianBlur(gray, (5, 5), 0)\n",
        "\n",
        "    # Cannyエッジ検出を行う\n",
        "    edges = cv2.Canny(blurred, 50, 150)\n",
        "\n",
        "    # 輪郭を検出\n",
        "    contours, _ = cv2.findContours(edges, cv2.RETR_EXTERNAL, cv2.CHAIN_APPROX_SIMPLE)\n",
        "\n",
        "    # 最大の輪郭を見つける\n",
        "    if contours:\n",
        "        largest_contour = max(contours, key=cv2.contourArea)\n",
        "\n",
        "        # 最大の輪郭の外接円を計算\n",
        "        (x, y), radius = cv2.minEnclosingCircle(largest_contour)\n",
        "        center = (int(x), int(y))\n",
        "        radius = int(radius)\n",
        "\n",
        "        # 最大の輪郭を描画\n",
        "        cv2.drawContours(frame, [largest_contour], -1, (0, 255, 0), 2)  # 緑色で輪郭を描画\n",
        "\n",
        "        # 外接円を描画\n",
        "        cv2.circle(frame, center, radius, (255, 0, 0), 2)  # 青色で外接円を描画\n",
        "        cv2.circle(frame, center, 5, (0, 0, 255), -1)  # 中心点を赤色で描画\n",
        "\n",
        "        # 最大の輪郭の面積を表示\n",
        "        area = cv2.contourArea(largest_contour)\n",
        "        print(f\"Largest contour area: {area}\")\n",
        "\n",
        "    # エッジ画像と元の画像に検出した形状を表示\n",
        "    plt.figure(figsize=(12, 6))\n",
        "    plt.subplot(1, 2, 1)\n",
        "    plt.imshow(edges, cmap='gray')\n",
        "    plt.title('Edge Detection')\n",
        "    plt.axis('off')\n",
        "\n",
        "    plt.subplot(1, 2, 2)\n",
        "    plt.imshow(cv2.cvtColor(frame, cv2.COLOR_BGR2RGB))\n",
        "    plt.title('Largest Contour and Enclosing Circle')\n",
        "    plt.axis('off')\n",
        "    plt.savefig(\"Test_cake.jpg\")\n",
        "    plt.show()\n",
        "\n",
        "# プログラムを実行\n",
        "image_path = 'cake_fix.png'  # 処理する画像のパス\n",
        "detect_largest_contour_shape(image_path)\n"
      ]
    }
  ]
}